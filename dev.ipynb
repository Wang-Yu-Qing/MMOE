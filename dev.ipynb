{
 "cells": [
  {
   "cell_type": "code",
   "execution_count": 1,
   "metadata": {},
   "outputs": [],
   "source": [
    "import tensorflow as tf"
   ]
  },
  {
   "cell_type": "code",
   "execution_count": 6,
   "metadata": {},
   "outputs": [
    {
     "data": {
      "text/plain": [
       "'\\n# save as tfrecord to disk, or use `tf.data.Dataset.from_tensor_slices` in memory\\nwith tf.io.TFRecordWriter(\"data/census/tfrecords/train.tfrecords\") as writer:\\n    with open(\"data/census/train_data.csv\", \"r\") as f:\\n        for line in f.readlines():\\n            fields = line.strip().split(\",\")\\n            matrital, income, fea = int(fields[0]), int(fields[1]), [float(x) for x in fields[2:]]\\n            example = parse_single_sample(fea, matrital, income)\\n            writer.write(example.SerializeToString())\\n'"
      ]
     },
     "execution_count": 6,
     "metadata": {},
     "output_type": "execute_result"
    }
   ],
   "source": [
    "def _bytes_feature(value):\n",
    "    \"\"\"Returns a bytes_list from a string / byte.\"\"\"\n",
    "    if isinstance(value, tf.Tensor): # if value ist tensor\n",
    "        value = value.numpy() # get value of tensor\n",
    "    return tf.train.Feature(bytes_list=tf.train.BytesList(value=[value]))\n",
    "\n",
    "def _int64_feature(value):\n",
    "  \"\"\"Returns an int64_list from a bool / enum / int / uint.\"\"\"\n",
    "  return tf.train.Feature(int64_list=tf.train.Int64List(value=[value]))\n",
    "\n",
    "def parse_single_sample(fea, matrital, income):\n",
    "  data = {\n",
    "        'fea' : _bytes_feature(tf.io.serialize_tensor(fea)),\n",
    "        'matrital' : _int64_feature(matrital),\n",
    "        'income': _int64_feature(income)\n",
    "  }\n",
    "  example = tf.train.Example(features=tf.train.Features(feature=data))\n",
    "\n",
    "  return example\n",
    "\n",
    "\"\"\"\n",
    "# save as tfrecord to disk, or use `tf.data.Dataset.from_tensor_slices` in memory\n",
    "with tf.io.TFRecordWriter(\"data/census/tfrecords/train.tfrecords\") as writer:\n",
    "    with open(\"data/census/train_data.csv\", \"r\") as f:\n",
    "        for line in f.readlines():\n",
    "            fields = line.strip().split(\",\")\n",
    "            matrital, income, fea = int(fields[0]), int(fields[1]), [float(x) for x in fields[2:]]\n",
    "            example = parse_single_sample(fea, matrital, income)\n",
    "            writer.write(example.SerializeToString())\n",
    "\"\"\""
   ]
  },
  {
   "cell_type": "code",
   "execution_count": 32,
   "metadata": {},
   "outputs": [
    {
     "name": "stdout",
     "output_type": "stream",
     "text": [
      "tf.Tensor(\n",
      "[[0.19165388 0.49798033]\n",
      " [0.47662297 0.49534288]\n",
      " [0.2825856  0.2111551 ]\n",
      " [0.21685195 0.25583968]], shape=(4, 2), dtype=float32)\n"
     ]
    }
   ],
   "source": [
    "\n",
    "class MMOEDense(object):\n",
    "    def __init__(self, nTasks, nExperts, inputDim, expertDim, hiddenDim):\n",
    "        self.nTasks = nTasks\n",
    "        self.nExperts = nExperts\n",
    "        self.inputDim = inputDim\n",
    "        self.expertDim = expertDim\n",
    "        # experts (nExperts, inputDim, expertDim)\n",
    "        expertInit = tf.initializers.truncated_normal(mean=0.0, stddev=1.0)\n",
    "        self.experts = tf.Variable(expertInit(shape=(nExperts, inputDim, expertDim), dtype=tf.float32), name=\"experts\")\n",
    "        # gates, (nTasks, inputDim, nExpert)\n",
    "        gateInit = tf.initializers.truncated_normal(mean=0.0, stddev=1.0)\n",
    "        self.gates = tf.Variable(gateInit(shape=(nTasks, inputDim, nExperts), dtype=tf.float32), name=\"gates\")\n",
    "        # towers' mlp for each task, (nTasks, expertDim, hiddenDim)\n",
    "        towersInit = tf.initializers.truncated_normal(mean=0.0, stddev=1.0)\n",
    "        self.towers = tf.Variable(towersInit(shape=(nTasks, expertDim, hiddenDim), dtype=tf.float32), name=\"towers\")\n",
    "        # towers out\n",
    "        towersOut = tf.initializers.truncated_normal(mean=0.0, stddev=1.0)\n",
    "        self.outs = tf.Variable(towersOut(shape=(nTasks, hiddenDim, 1), dtype=tf.float32), name=\"outs\")\n",
    "\n",
    "\n",
    "    def forward(self, input):\n",
    "        \"\"\"\n",
    "            @input: (batch, inputDim)\n",
    "        \"\"\"\n",
    "        pass\n",
    "\n",
    "bs = 4\n",
    "inputDim = 2\n",
    "expertDim = 2\n",
    "nExperts = 3\n",
    "nTasks = 2\n",
    "\n",
    "model = MMOEDense(nTasks, nExperts, inputDim, expertDim, 8)\n",
    "#print(model.experts)\n",
    "\n",
    "input = tf.random.normal((bs, inputDim))\n",
    "# (batch, 1, 1, inputDim), second dim is for expert broadcast, third dim is for matmul\n",
    "input = tf.expand_dims(tf.expand_dims(input, axis=1), axis=1)\n",
    "\n",
    "# (batch, 1, 1, inputDim) X (nExperts, inputDim, expertDim) -> (batch, nExperts, 1, expertDim) -> (batch, 1, nExperts, expertDim)\n",
    "expertsOut = tf.transpose(tf.matmul(input, model.experts), [0, 2, 1, 3])\n",
    "\n",
    "# (batch, 1, 1, inputDim) X (nTasks, inputDim, nExperts) -> (batch, nTasks, 1, nExperts)\n",
    "# TODO: mask for seq padding\n",
    "weights = tf.nn.softmax(tf.matmul(input, model.gates), 3)\n",
    "\n",
    "# (batch, nTasks, 1, nExperts) X (batch, 1, nExperts, expertDim) -> (batch, nTasks, 1, expertDim)\n",
    "towersIn = tf.matmul(weights, expertsOut)\n",
    "# (batch, nTasks, 1, expertDim) X (nTasks, expertDim, hiddenDim) -> (batch, nTasks, 1, hiddenDim)\n",
    "towersHidden = tf.nn.relu(tf.matmul(towersIn, model.towers))\n",
    "# (batch, nTasks, 1, hiddenDim) X (nTasks, hiddenDim, 1) -> (batch, nTasks, 1, 1) -> (batch, nTasks, 1)\n",
    "outs = tf.squeeze(tf.nn.sigmoid(tf.matmul(towersHidden, model.outs)), axis=[2, 3])\n",
    "\n",
    "\n"
   ]
  },
  {
   "cell_type": "code",
   "execution_count": 14,
   "metadata": {},
   "outputs": [
    {
     "data": {
      "text/plain": [
       "<tf.Tensor: shape=(4, 2, 1, 3), dtype=float32, numpy=\n",
       "array([[[[-0.26902193, -1.2600311 ,  1.825197  ]],\n",
       "\n",
       "        [[ 0.44608107, -0.28010795, -2.5216727 ]]],\n",
       "\n",
       "\n",
       "       [[[ 0.77840555, -0.40248802,  0.9354823 ]],\n",
       "\n",
       "        [[ 1.9515262 ,  0.6383407 , -2.6946619 ]]],\n",
       "\n",
       "\n",
       "       [[[ 0.39436162, -0.47272447,  0.88672954]],\n",
       "\n",
       "        [[ 1.2039841 ,  0.3119706 , -2.0286016 ]]],\n",
       "\n",
       "\n",
       "       [[[-0.30976683, -0.28421488,  0.31012106]],\n",
       "\n",
       "        [[-0.42071053, -0.27292392, -0.02437009]]]], dtype=float32)>"
      ]
     },
     "execution_count": 14,
     "metadata": {},
     "output_type": "execute_result"
    }
   ],
   "source": [
    "tf.matmul(input, model.gates)"
   ]
  },
  {
   "cell_type": "code",
   "execution_count": null,
   "metadata": {},
   "outputs": [],
   "source": []
  }
 ],
 "metadata": {
  "kernelspec": {
   "display_name": "Python 3",
   "language": "python",
   "name": "python3"
  },
  "language_info": {
   "codemirror_mode": {
    "name": "ipython",
    "version": 3
   },
   "file_extension": ".py",
   "mimetype": "text/x-python",
   "name": "python",
   "nbconvert_exporter": "python",
   "pygments_lexer": "ipython3",
   "version": "3.7.7"
  },
  "orig_nbformat": 4,
  "vscode": {
   "interpreter": {
    "hash": "252189e587d1e2aeba4a06e91fa71896c7a7f6e22e918b9407c7cde4ef2d5985"
   }
  }
 },
 "nbformat": 4,
 "nbformat_minor": 2
}
