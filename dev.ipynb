{
 "cells": [
  {
   "cell_type": "code",
   "execution_count": 9,
   "metadata": {},
   "outputs": [],
   "source": [
    "import tensorflow as tf"
   ]
  },
  {
   "cell_type": "code",
   "execution_count": 6,
   "metadata": {},
   "outputs": [
    {
     "data": {
      "text/plain": [
       "'\\n# save as tfrecord to disk, or use `tf.data.Dataset.from_tensor_slices` in memory\\nwith tf.io.TFRecordWriter(\"data/census/tfrecords/train.tfrecords\") as writer:\\n    with open(\"data/census/train_data.csv\", \"r\") as f:\\n        for line in f.readlines():\\n            fields = line.strip().split(\",\")\\n            matrital, income, fea = int(fields[0]), int(fields[1]), [float(x) for x in fields[2:]]\\n            example = parse_single_sample(fea, matrital, income)\\n            writer.write(example.SerializeToString())\\n'"
      ]
     },
     "execution_count": 6,
     "metadata": {},
     "output_type": "execute_result"
    }
   ],
   "source": [
    "def _bytes_feature(value):\n",
    "    \"\"\"Returns a bytes_list from a string / byte.\"\"\"\n",
    "    if isinstance(value, tf.Tensor): # if value ist tensor\n",
    "        value = value.numpy() # get value of tensor\n",
    "    return tf.train.Feature(bytes_list=tf.train.BytesList(value=[value]))\n",
    "\n",
    "def _int64_feature(value):\n",
    "  \"\"\"Returns an int64_list from a bool / enum / int / uint.\"\"\"\n",
    "  return tf.train.Feature(int64_list=tf.train.Int64List(value=[value]))\n",
    "\n",
    "def parse_single_sample(fea, matrital, income):\n",
    "  data = {\n",
    "        'fea' : _bytes_feature(tf.io.serialize_tensor(fea)),\n",
    "        'matrital' : _int64_feature(matrital),\n",
    "        'income': _int64_feature(income)\n",
    "  }\n",
    "  example = tf.train.Example(features=tf.train.Features(feature=data))\n",
    "\n",
    "  return example\n",
    "\n",
    "\"\"\"\n",
    "# save as tfrecord to disk, or use `tf.data.Dataset.from_tensor_slices` in memory\n",
    "with tf.io.TFRecordWriter(\"data/census/tfrecords/train.tfrecords\") as writer:\n",
    "    with open(\"data/census/train_data.csv\", \"r\") as f:\n",
    "        for line in f.readlines():\n",
    "            fields = line.strip().split(\",\")\n",
    "            matrital, income, fea = int(fields[0]), int(fields[1]), [float(x) for x in fields[2:]]\n",
    "            example = parse_single_sample(fea, matrital, income)\n",
    "            writer.write(example.SerializeToString())\n",
    "\"\"\""
   ]
  },
  {
   "cell_type": "code",
   "execution_count": 12,
   "metadata": {},
   "outputs": [
    {
     "name": "stdout",
     "output_type": "stream",
     "text": [
      "tf.Tensor(\n",
      "[[[-3.3729243  -2.3023763 ]\n",
      "  [ 2.4164271   1.9118183 ]\n",
      "  [-0.77461445 -1.6674687 ]]\n",
      "\n",
      " [[ 0.87476665 -1.2033155 ]\n",
      "  [ 0.803498   -0.15558821]\n",
      "  [ 1.332193    0.7990842 ]]\n",
      "\n",
      " [[ 0.07360959 -2.5701346 ]\n",
      "  [ 2.0287952   0.45346907]\n",
      "  [ 1.6634114   0.56998444]]\n",
      "\n",
      " [[ 0.26174334 -0.46593297]\n",
      "  [ 0.32452798 -0.02654492]\n",
      "  [ 0.46514326  0.2606592 ]]], shape=(4, 3, 2), dtype=float32)\n",
      "tf.Tensor(\n",
      "[[[0.0249604  0.21176472 0.7632749 ]\n",
      "  [0.05003832 0.6352448  0.31471694]]\n",
      "\n",
      " [[0.5585442  0.32667807 0.11477774]\n",
      "  [0.27513042 0.33741978 0.38744983]]\n",
      "\n",
      " [[0.43152305 0.42289156 0.14558537]\n",
      "  [0.13354826 0.4437411  0.4227106 ]]\n",
      "\n",
      " [[0.40807486 0.34794104 0.24398407]\n",
      "  [0.30479762 0.3408607  0.3543417 ]]], shape=(4, 2, 3), dtype=float32)\n"
     ]
    }
   ],
   "source": [
    "\n",
    "class MMOEDense(object):\n",
    "    def __init__(self, nTasks, nExperts, inputDim, expertDim):\n",
    "        self.nTasks = nTasks\n",
    "        self.nExperts = nExperts\n",
    "        self.inputDim = inputDim\n",
    "        self.expertDim = expertDim\n",
    "        # (nExperts, inputDim, expertDim)\n",
    "        expertInit = tf.initializers.truncated_normal(mean=0.0, stddev=1.0)\n",
    "        self.experts = tf.Variable(expertInit(shape=(nExperts, inputDim, expertDim), dtype=tf.float32), name=\"experts\")\n",
    "        # (nTasks, inputDim, nExpert)\n",
    "        gateInit = tf.initializers.truncated_normal(mean=0.0, stddev=1.0)\n",
    "        self.gates = tf.Variable(gateInit(shape=(nTasks, inputDim, nExperts), dtype=tf.float32), name=\"gates\")\n",
    "\n",
    "    def forward(self, input):\n",
    "        \"\"\"\n",
    "            @input: (batch, inputDim)\n",
    "        \"\"\"\n",
    "        pass\n",
    "\n",
    "bs = 4\n",
    "inputDim = 2\n",
    "expertDim = 2\n",
    "nExperts = 3\n",
    "nTasks = 2\n",
    "\n",
    "model = MMOEDense(nTasks, nExperts, inputDim, expertDim)\n",
    "#print(model.experts)\n",
    "\n",
    "input = tf.random.normal((bs, inputDim))\n",
    "# (batch, 1, 1, inputDim), second dim is for expert broadcast, third dim is for matmul\n",
    "input = tf.expand_dims(tf.expand_dims(input, axis=1), axis=1)\n",
    "#print(input)\n",
    "\n",
    "# (batch, 1, 1, inputDim) X (nExperts, inputDim, expertDim) -> (batch, nExperts, 1, expertDim) -> (batch, nExperts, expertDim)\n",
    "expertsOut = tf.squeeze(tf.matmul(input, model.experts), 2)\n",
    "print(expertsOut)\n",
    "\n",
    "# (batch, 1, 1, inputDim) X (nTasks, inputDim, nExperts) -> (batch, nTasks, 1, nExperts) -> (batch, nTasks, nExperts)\n",
    "# TODO: mask for seq padding\n",
    "weights = tf.nn.softmax(tf.squeeze(tf.matmul(input, model.gates), 2), 2)\n",
    "print(weights)"
   ]
  },
  {
   "cell_type": "code",
   "execution_count": null,
   "metadata": {},
   "outputs": [],
   "source": []
  }
 ],
 "metadata": {
  "kernelspec": {
   "display_name": "Python 3",
   "language": "python",
   "name": "python3"
  },
  "language_info": {
   "codemirror_mode": {
    "name": "ipython",
    "version": 3
   },
   "file_extension": ".py",
   "mimetype": "text/x-python",
   "name": "python",
   "nbconvert_exporter": "python",
   "pygments_lexer": "ipython3",
   "version": "3.7.10"
  },
  "orig_nbformat": 4,
  "vscode": {
   "interpreter": {
    "hash": "252189e587d1e2aeba4a06e91fa71896c7a7f6e22e918b9407c7cde4ef2d5985"
   }
  }
 },
 "nbformat": 4,
 "nbformat_minor": 2
}
