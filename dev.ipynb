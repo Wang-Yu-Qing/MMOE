{
 "cells": [
  {
   "cell_type": "code",
   "execution_count": 2,
   "metadata": {},
   "outputs": [],
   "source": [
    "import tensorflow as tf"
   ]
  },
  {
   "cell_type": "code",
   "execution_count": 6,
   "metadata": {},
   "outputs": [
    {
     "data": {
      "text/plain": [
       "'\\n# save as tfrecord to disk, or use `tf.data.Dataset.from_tensor_slices` in memory\\nwith tf.io.TFRecordWriter(\"data/census/tfrecords/train.tfrecords\") as writer:\\n    with open(\"data/census/train_data.csv\", \"r\") as f:\\n        for line in f.readlines():\\n            fields = line.strip().split(\",\")\\n            matrital, income, fea = int(fields[0]), int(fields[1]), [float(x) for x in fields[2:]]\\n            example = parse_single_sample(fea, matrital, income)\\n            writer.write(example.SerializeToString())\\n'"
      ]
     },
     "execution_count": 6,
     "metadata": {},
     "output_type": "execute_result"
    }
   ],
   "source": [
    "def _bytes_feature(value):\n",
    "    \"\"\"Returns a bytes_list from a string / byte.\"\"\"\n",
    "    if isinstance(value, tf.Tensor): # if value ist tensor\n",
    "        value = value.numpy() # get value of tensor\n",
    "    return tf.train.Feature(bytes_list=tf.train.BytesList(value=[value]))\n",
    "\n",
    "def _int64_feature(value):\n",
    "  \"\"\"Returns an int64_list from a bool / enum / int / uint.\"\"\"\n",
    "  return tf.train.Feature(int64_list=tf.train.Int64List(value=[value]))\n",
    "\n",
    "def parse_single_sample(fea, matrital, income):\n",
    "  data = {\n",
    "        'fea' : _bytes_feature(tf.io.serialize_tensor(fea)),\n",
    "        'matrital' : _int64_feature(matrital),\n",
    "        'income': _int64_feature(income)\n",
    "  }\n",
    "  example = tf.train.Example(features=tf.train.Features(feature=data))\n",
    "\n",
    "  return example\n",
    "\n",
    "\"\"\"\n",
    "# save as tfrecord to disk, or use `tf.data.Dataset.from_tensor_slices` in memory\n",
    "with tf.io.TFRecordWriter(\"data/census/tfrecords/train.tfrecords\") as writer:\n",
    "    with open(\"data/census/train_data.csv\", \"r\") as f:\n",
    "        for line in f.readlines():\n",
    "            fields = line.strip().split(\",\")\n",
    "            matrital, income, fea = int(fields[0]), int(fields[1]), [float(x) for x in fields[2:]]\n",
    "            example = parse_single_sample(fea, matrital, income)\n",
    "            writer.write(example.SerializeToString())\n",
    "\"\"\""
   ]
  },
  {
   "cell_type": "code",
   "execution_count": 17,
   "metadata": {},
   "outputs": [
    {
     "name": "stdout",
     "output_type": "stream",
     "text": [
      "tf.Tensor(\n",
      "[[[ 0.35172206 -0.90488565]\n",
      "  [ 1.1093799   0.20515792]]\n",
      "\n",
      " [[ 1.0601685  -0.6509977 ]\n",
      "  [ 3.4317236   0.8349423 ]]\n",
      "\n",
      " [[-0.4493051   1.5196171 ]\n",
      "  [-1.4017922  -0.22415169]]\n",
      "\n",
      " [[-0.6490441  -1.4295893 ]\n",
      "  [-2.1782324  -0.70180565]]], shape=(4, 2, 2), dtype=float32)\n"
     ]
    }
   ],
   "source": [
    "class MMOEDense(object):\n",
    "    def __init__(self, nExperts, inputDim, expertDim):\n",
    "        initializer = tf.initializers.truncated_normal(mean=0.0, stddev=1.0)\n",
    "        # (nExperts, inputDim, expertDim)\n",
    "        self.experts = tf.Variable(initializer(shape=(nExperts, inputDim, expertDim), dtype=tf.float32), name=\"experts\")\n",
    "\n",
    "    def forward(self, input):\n",
    "        \"\"\"\n",
    "            @input: (batch, inputDim)\n",
    "        \"\"\"\n",
    "        pass\n",
    "\n",
    "bs = 4\n",
    "inputDim = 2\n",
    "expertDim = 2\n",
    "nExperts = 2\n",
    "\n",
    "model = MMOEDense(2, inputDim, expertDim)\n",
    "#print(model.experts)\n",
    "\n",
    "input = tf.random.normal((bs, inputDim))\n",
    "# (batch, 1, 1, inputDim), second dim is for expert broadcast, third dim is for matmul\n",
    "input = tf.expand_dims(tf.expand_dims(input, axis=1), axis=1)\n",
    "#print(input)\n",
    "\n",
    "# (batch, nExperts, 1, expertDim) -> (batch, nExperts, expertDim)\n",
    "output = tf.squeeze(tf.matmul(input, model.experts), 2)"
   ]
  },
  {
   "cell_type": "code",
   "execution_count": null,
   "metadata": {},
   "outputs": [],
   "source": []
  }
 ],
 "metadata": {
  "kernelspec": {
   "display_name": "Python 3",
   "language": "python",
   "name": "python3"
  },
  "language_info": {
   "codemirror_mode": {
    "name": "ipython",
    "version": 3
   },
   "file_extension": ".py",
   "mimetype": "text/x-python",
   "name": "python",
   "nbconvert_exporter": "python",
   "pygments_lexer": "ipython3",
   "version": "3.7.7"
  },
  "orig_nbformat": 4,
  "vscode": {
   "interpreter": {
    "hash": "252189e587d1e2aeba4a06e91fa71896c7a7f6e22e918b9407c7cde4ef2d5985"
   }
  }
 },
 "nbformat": 4,
 "nbformat_minor": 2
}
